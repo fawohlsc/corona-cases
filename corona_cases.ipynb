{
 "cells": [
  {
   "cell_type": "markdown",
   "metadata": {},
   "source": [
    "# Corona Cases\n",
    "\n",
    "This notebook contains a bar chart to visualize the corona cases either per country of worldwide. The underlying data is provided by [Johns Hopkins University](https://github.com/CSSEGISandData/COVID-19/). "
   ]
  },
  {
   "cell_type": "markdown",
   "metadata": {},
   "source": [
    "## Import packages\n",
    "\n",
    "- After the initial run, comment this line to minimize the execution time\n",
    "```bash\n",
    "#!jupyter nbextension enable --py widgetsnbextension\n",
    "```"
   ]
  },
  {
   "cell_type": "code",
   "execution_count": null,
   "metadata": {},
   "outputs": [],
   "source": [
    "!jupyter nbextension enable --py widgetsnbextension"
   ]
  },
  {
   "cell_type": "code",
   "execution_count": null,
   "metadata": {},
   "outputs": [],
   "source": [
    "import pandas as pd\n",
    "import plotly.graph_objects as go\n",
    "from ipywidgets import widgets"
   ]
  },
  {
   "cell_type": "markdown",
   "metadata": {},
   "source": [
    "## Prepare dataset"
   ]
  },
  {
   "cell_type": "markdown",
   "metadata": {},
   "source": [
    "### Data cleansing\n",
    "\n",
    "- Replaces NA/NaN values\n",
    "- Drops not required columns (Province/State, Lat, Long)\n",
    "- Aggregates the corona cases per country\n",
    "- Calculates the worldwide corona cases\n",
    "- Adds a status per case (Confirmed, Death, Recovered)"
   ]
  },
  {
   "cell_type": "code",
   "execution_count": null,
   "metadata": {},
   "outputs": [],
   "source": [
    "def data_cleansing(df, status):\n",
    "    df=df.fillna(\"\")\n",
    "    df=df.drop([\"Province/State\", \"Lat\", \"Long\"], axis=1)\n",
    "    df=df.rename(columns={\"Country/Region\": \"Country\"})\n",
    "    df=df.groupby([\"Country\"], sort=True).sum() # Country will become the new index\n",
    "    df.loc[\"Worldwide\"] = df.sum(numeric_only=True)\n",
    "    df.insert(0, \"Status\", status, allow_duplicates=True)\n",
    "    df=df.reset_index().set_index([\"Country\", \"Status\"])\n",
    "    return df"
   ]
  },
  {
   "cell_type": "markdown",
   "metadata": {},
   "source": [
    "### Load confirmed cases"
   ]
  },
  {
   "cell_type": "code",
   "execution_count": null,
   "metadata": {},
   "outputs": [],
   "source": [
    "# load confirmed corona cases\n",
    "df_confirmed=pd.read_csv(\"https://raw.githubusercontent.com/CSSEGISandData/COVID-19/master/csse_covid_19_data/csse_covid_19_time_series/time_series_19-covid-Confirmed.csv\")\n",
    "df_confirmed=data_cleansing(df_confirmed, \"Confirmed\")\n",
    "df_confirmed.head(3)"
   ]
  },
  {
   "cell_type": "markdown",
   "metadata": {},
   "source": [
    "### Load death cases"
   ]
  },
  {
   "cell_type": "code",
   "execution_count": null,
   "metadata": {},
   "outputs": [],
   "source": [
    "# load death corona cases\n",
    "df_death=pd.read_csv(\"https://raw.githubusercontent.com/CSSEGISandData/COVID-19/master/csse_covid_19_data/csse_covid_19_time_series/time_series_19-covid-Deaths.csv\")\n",
    "df_death=data_cleansing(df_death, \"Death\")\n",
    "df_death.head(3)"
   ]
  },
  {
   "cell_type": "markdown",
   "metadata": {},
   "source": [
    "### Load recovered cases"
   ]
  },
  {
   "cell_type": "code",
   "execution_count": null,
   "metadata": {},
   "outputs": [],
   "source": [
    "# load recovered corona cases\n",
    "df_recovered=pd.read_csv(\"https://raw.githubusercontent.com/CSSEGISandData/COVID-19/master/csse_covid_19_data/csse_covid_19_time_series/time_series_19-covid-Recovered.csv\")\n",
    "df_recovered=data_cleansing(df_recovered, \"Recovered\")\n",
    "df_recovered.head(3)"
   ]
  },
  {
   "cell_type": "markdown",
   "metadata": {},
   "source": [
    "### Merge all cases"
   ]
  },
  {
   "cell_type": "code",
   "execution_count": null,
   "metadata": {},
   "outputs": [],
   "source": [
    "df=pd.concat([df_confirmed,df_death,df_recovered]).sort_values(by=[\"Country\", \"Status\"])\n",
    "df.head(3)"
   ]
  },
  {
   "cell_type": "markdown",
   "metadata": {},
   "source": [
    "## Visualize dataset"
   ]
  },
  {
   "cell_type": "code",
   "execution_count": null,
   "metadata": {},
   "outputs": [],
   "source": [
    "# Bar chart displaying corona cases\n",
    "days=df.columns\n",
    "country=\"Worldwide\"\n",
    "confirmed=df.loc[country,\"Confirmed\"]\n",
    "death=df.loc[country,\"Death\"]\n",
    "recovered=df.loc[country,\"Recovered\"]\n",
    "fig = go.FigureWidget(data=[\n",
    "                    go.Bar(name=\"Confirmed\", x=days, y=confirmed, marker_color=\"red\"),\n",
    "                    go.Bar(name=\"Death\", x=days, y=death, marker_color=\"black\"),\n",
    "                    go.Bar(name=\"Recovered\", x=days, y=recovered, marker_color=\"green\"),\n",
    "                ],\n",
    "                layout=go.Layout(plot_bgcolor = \"#EEEEEE\"))\n",
    "\n",
    "# Dropdown to select country to be displayed in bar chart\n",
    "countries=df.index.get_level_values(0).unique().tolist()\n",
    "dropdown = widgets.Dropdown(\n",
    "    description='Corona cases:',\n",
    "    value=country,\n",
    "    options=countries,\n",
    "    style={'description_width': 'initial'}\n",
    ")\n",
    "def response(change):\n",
    "    country=dropdown.value\n",
    "    with fig.batch_update():\n",
    "            fig.data[0].y = df.loc[country,\"Confirmed\"]\n",
    "            fig.data[1].y = df.loc[country,\"Death\"]\n",
    "            fig.data[2].y = df.loc[country,\"Recovered\"]\n",
    "dropdown.observe(response, names=\"value\")\n",
    "\n",
    "# Display dropdown and figure\n",
    "widgets.VBox([dropdown, fig])"
   ]
  }
 ],
 "metadata": {
  "kernelspec": {
   "display_name": ".venv",
   "language": "python",
   "name": ".venv"
  },
  "language_info": {
   "codemirror_mode": {
    "name": "ipython",
    "version": 3
   },
   "file_extension": ".py",
   "mimetype": "text/x-python",
   "name": "python",
   "nbconvert_exporter": "python",
   "pygments_lexer": "ipython3",
   "version": "3.6.9"
  }
 },
 "nbformat": 4,
 "nbformat_minor": 2
}
